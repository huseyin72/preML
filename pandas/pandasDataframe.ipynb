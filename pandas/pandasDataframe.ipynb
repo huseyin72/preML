{
 "cells": [
  {
   "cell_type": "code",
   "execution_count": 1,
   "metadata": {},
   "outputs": [],
   "source": [
    "import pandas as pd\n",
    "import numpy as np "
   ]
  },
  {
   "cell_type": "code",
   "execution_count": 2,
   "metadata": {},
   "outputs": [
    {
     "data": {
      "text/plain": [
       "array([[0.13468836, 0.28124103, 0.54791342],\n",
       "       [0.44939766, 0.34775794, 0.50227532],\n",
       "       [0.723141  , 0.14734507, 0.79865011],\n",
       "       [0.37474377, 0.47350772, 0.26110931]])"
      ]
     },
     "execution_count": 2,
     "metadata": {},
     "output_type": "execute_result"
    }
   ],
   "source": [
    "data = np.random.rand( 4,3)\n",
    "data"
   ]
  },
  {
   "cell_type": "code",
   "execution_count": 3,
   "metadata": {},
   "outputs": [
    {
     "data": {
      "text/html": [
       "<div>\n",
       "<style scoped>\n",
       "    .dataframe tbody tr th:only-of-type {\n",
       "        vertical-align: middle;\n",
       "    }\n",
       "\n",
       "    .dataframe tbody tr th {\n",
       "        vertical-align: top;\n",
       "    }\n",
       "\n",
       "    .dataframe thead th {\n",
       "        text-align: right;\n",
       "    }\n",
       "</style>\n",
       "<table border=\"1\" class=\"dataframe\">\n",
       "  <thead>\n",
       "    <tr style=\"text-align: right;\">\n",
       "      <th></th>\n",
       "      <th>0</th>\n",
       "      <th>1</th>\n",
       "      <th>2</th>\n",
       "    </tr>\n",
       "  </thead>\n",
       "  <tbody>\n",
       "    <tr>\n",
       "      <th>0</th>\n",
       "      <td>0.134688</td>\n",
       "      <td>0.281241</td>\n",
       "      <td>0.547913</td>\n",
       "    </tr>\n",
       "    <tr>\n",
       "      <th>1</th>\n",
       "      <td>0.449398</td>\n",
       "      <td>0.347758</td>\n",
       "      <td>0.502275</td>\n",
       "    </tr>\n",
       "    <tr>\n",
       "      <th>2</th>\n",
       "      <td>0.723141</td>\n",
       "      <td>0.147345</td>\n",
       "      <td>0.798650</td>\n",
       "    </tr>\n",
       "    <tr>\n",
       "      <th>3</th>\n",
       "      <td>0.374744</td>\n",
       "      <td>0.473508</td>\n",
       "      <td>0.261109</td>\n",
       "    </tr>\n",
       "  </tbody>\n",
       "</table>\n",
       "</div>"
      ],
      "text/plain": [
       "          0         1         2\n",
       "0  0.134688  0.281241  0.547913\n",
       "1  0.449398  0.347758  0.502275\n",
       "2  0.723141  0.147345  0.798650\n",
       "3  0.374744  0.473508  0.261109"
      ]
     },
     "execution_count": 3,
     "metadata": {},
     "output_type": "execute_result"
    }
   ],
   "source": [
    "dataFrame = pd.DataFrame(data)\n",
    "dataFrame"
   ]
  },
  {
   "cell_type": "code",
   "execution_count": 4,
   "metadata": {},
   "outputs": [
    {
     "data": {
      "text/plain": [
       "0    0.134688\n",
       "1    0.449398\n",
       "2    0.723141\n",
       "3    0.374744\n",
       "Name: 0, dtype: float64"
      ]
     },
     "execution_count": 4,
     "metadata": {},
     "output_type": "execute_result"
    }
   ],
   "source": [
    "dataFrame[0]"
   ]
  },
  {
   "cell_type": "code",
   "execution_count": 7,
   "metadata": {},
   "outputs": [
    {
     "data": {
      "text/html": [
       "<div>\n",
       "<style scoped>\n",
       "    .dataframe tbody tr th:only-of-type {\n",
       "        vertical-align: middle;\n",
       "    }\n",
       "\n",
       "    .dataframe tbody tr th {\n",
       "        vertical-align: top;\n",
       "    }\n",
       "\n",
       "    .dataframe thead th {\n",
       "        text-align: right;\n",
       "    }\n",
       "</style>\n",
       "<table border=\"1\" class=\"dataframe\">\n",
       "  <thead>\n",
       "    <tr style=\"text-align: right;\">\n",
       "      <th></th>\n",
       "      <th>Worked hours</th>\n",
       "      <th>Age</th>\n",
       "      <th>Salary</th>\n",
       "    </tr>\n",
       "  </thead>\n",
       "  <tbody>\n",
       "    <tr>\n",
       "      <th>Huseyin</th>\n",
       "      <td>0.134688</td>\n",
       "      <td>0.281241</td>\n",
       "      <td>0.547913</td>\n",
       "    </tr>\n",
       "    <tr>\n",
       "      <th>Ali</th>\n",
       "      <td>0.449398</td>\n",
       "      <td>0.347758</td>\n",
       "      <td>0.502275</td>\n",
       "    </tr>\n",
       "    <tr>\n",
       "      <th>Ismail</th>\n",
       "      <td>0.723141</td>\n",
       "      <td>0.147345</td>\n",
       "      <td>0.798650</td>\n",
       "    </tr>\n",
       "    <tr>\n",
       "      <th>Veli</th>\n",
       "      <td>0.374744</td>\n",
       "      <td>0.473508</td>\n",
       "      <td>0.261109</td>\n",
       "    </tr>\n",
       "  </tbody>\n",
       "</table>\n",
       "</div>"
      ],
      "text/plain": [
       "         Worked hours       Age    Salary\n",
       "Huseyin      0.134688  0.281241  0.547913\n",
       "Ali          0.449398  0.347758  0.502275\n",
       "Ismail       0.723141  0.147345  0.798650\n",
       "Veli         0.374744  0.473508  0.261109"
      ]
     },
     "execution_count": 7,
     "metadata": {},
     "output_type": "execute_result"
    }
   ],
   "source": [
    "newDF = pd.DataFrame(data, index=[\"Huseyin\",\"Ali\",\"Ismail\",\"Veli\"],columns=[\"Worked hours\",\"Age\",\"Salary\"])\n",
    "newDF"
   ]
  },
  {
   "attachments": {},
   "cell_type": "markdown",
   "metadata": {},
   "source": [
    "## call columns"
   ]
  },
  {
   "cell_type": "code",
   "execution_count": 8,
   "metadata": {},
   "outputs": [
    {
     "data": {
      "text/plain": [
       "Huseyin    0.281241\n",
       "Ali        0.347758\n",
       "Ismail     0.147345\n",
       "Veli       0.473508\n",
       "Name: Age, dtype: float64"
      ]
     },
     "execution_count": 8,
     "metadata": {},
     "output_type": "execute_result"
    }
   ],
   "source": [
    "newDF[\"Age\"]"
   ]
  },
  {
   "cell_type": "code",
   "execution_count": 9,
   "metadata": {},
   "outputs": [
    {
     "data": {
      "text/plain": [
       "Huseyin    0.134688\n",
       "Ali        0.449398\n",
       "Ismail     0.723141\n",
       "Veli       0.374744\n",
       "Name: Worked hours, dtype: float64"
      ]
     },
     "execution_count": 9,
     "metadata": {},
     "output_type": "execute_result"
    }
   ],
   "source": [
    "newDF[\"Worked hours\"]"
   ]
  },
  {
   "cell_type": "code",
   "execution_count": 10,
   "metadata": {},
   "outputs": [
    {
     "data": {
      "text/html": [
       "<div>\n",
       "<style scoped>\n",
       "    .dataframe tbody tr th:only-of-type {\n",
       "        vertical-align: middle;\n",
       "    }\n",
       "\n",
       "    .dataframe tbody tr th {\n",
       "        vertical-align: top;\n",
       "    }\n",
       "\n",
       "    .dataframe thead th {\n",
       "        text-align: right;\n",
       "    }\n",
       "</style>\n",
       "<table border=\"1\" class=\"dataframe\">\n",
       "  <thead>\n",
       "    <tr style=\"text-align: right;\">\n",
       "      <th></th>\n",
       "      <th>Age</th>\n",
       "      <th>Salary</th>\n",
       "    </tr>\n",
       "  </thead>\n",
       "  <tbody>\n",
       "    <tr>\n",
       "      <th>Huseyin</th>\n",
       "      <td>0.281241</td>\n",
       "      <td>0.547913</td>\n",
       "    </tr>\n",
       "    <tr>\n",
       "      <th>Ali</th>\n",
       "      <td>0.347758</td>\n",
       "      <td>0.502275</td>\n",
       "    </tr>\n",
       "    <tr>\n",
       "      <th>Ismail</th>\n",
       "      <td>0.147345</td>\n",
       "      <td>0.798650</td>\n",
       "    </tr>\n",
       "    <tr>\n",
       "      <th>Veli</th>\n",
       "      <td>0.473508</td>\n",
       "      <td>0.261109</td>\n",
       "    </tr>\n",
       "  </tbody>\n",
       "</table>\n",
       "</div>"
      ],
      "text/plain": [
       "              Age    Salary\n",
       "Huseyin  0.281241  0.547913\n",
       "Ali      0.347758  0.502275\n",
       "Ismail   0.147345  0.798650\n",
       "Veli     0.473508  0.261109"
      ]
     },
     "execution_count": 10,
     "metadata": {},
     "output_type": "execute_result"
    }
   ],
   "source": [
    "newDF[[\"Age\",\"Salary\"]]"
   ]
  },
  {
   "cell_type": "code",
   "execution_count": 12,
   "metadata": {},
   "outputs": [
    {
     "data": {
      "text/html": [
       "<div>\n",
       "<style scoped>\n",
       "    .dataframe tbody tr th:only-of-type {\n",
       "        vertical-align: middle;\n",
       "    }\n",
       "\n",
       "    .dataframe tbody tr th {\n",
       "        vertical-align: top;\n",
       "    }\n",
       "\n",
       "    .dataframe thead th {\n",
       "        text-align: right;\n",
       "    }\n",
       "</style>\n",
       "<table border=\"1\" class=\"dataframe\">\n",
       "  <thead>\n",
       "    <tr style=\"text-align: right;\">\n",
       "      <th></th>\n",
       "      <th>Salary</th>\n",
       "    </tr>\n",
       "  </thead>\n",
       "  <tbody>\n",
       "    <tr>\n",
       "      <th>Huseyin</th>\n",
       "      <td>0.547913</td>\n",
       "    </tr>\n",
       "    <tr>\n",
       "      <th>Ali</th>\n",
       "      <td>0.502275</td>\n",
       "    </tr>\n",
       "    <tr>\n",
       "      <th>Ismail</th>\n",
       "      <td>0.798650</td>\n",
       "    </tr>\n",
       "    <tr>\n",
       "      <th>Veli</th>\n",
       "      <td>0.261109</td>\n",
       "    </tr>\n",
       "  </tbody>\n",
       "</table>\n",
       "</div>"
      ],
      "text/plain": [
       "           Salary\n",
       "Huseyin  0.547913\n",
       "Ali      0.502275\n",
       "Ismail   0.798650\n",
       "Veli     0.261109"
      ]
     },
     "execution_count": 12,
     "metadata": {},
     "output_type": "execute_result"
    }
   ],
   "source": [
    "newDF[[\"Salary\"]]"
   ]
  },
  {
   "attachments": {},
   "cell_type": "markdown",
   "metadata": {},
   "source": [
    "## call rows"
   ]
  },
  {
   "cell_type": "code",
   "execution_count": 14,
   "metadata": {},
   "outputs": [
    {
     "data": {
      "text/plain": [
       "Worked hours    0.134688\n",
       "Age             0.281241\n",
       "Salary          0.547913\n",
       "Name: Huseyin, dtype: float64"
      ]
     },
     "execution_count": 14,
     "metadata": {},
     "output_type": "execute_result"
    }
   ],
   "source": [
    "newDF.loc[\"Huseyin\"]"
   ]
  },
  {
   "cell_type": "code",
   "execution_count": 15,
   "metadata": {},
   "outputs": [
    {
     "data": {
      "text/plain": [
       "Worked hours    0.134688\n",
       "Age             0.281241\n",
       "Salary          0.547913\n",
       "Name: Huseyin, dtype: float64"
      ]
     },
     "execution_count": 15,
     "metadata": {},
     "output_type": "execute_result"
    }
   ],
   "source": [
    "newDF.iloc[0]"
   ]
  },
  {
   "cell_type": "code",
   "execution_count": 16,
   "metadata": {},
   "outputs": [
    {
     "data": {
      "text/plain": [
       "Huseyin    0.547913\n",
       "Ali        0.502275\n",
       "Ismail     0.798650\n",
       "Veli       0.261109\n",
       "Name: Salary, dtype: float64"
      ]
     },
     "execution_count": 16,
     "metadata": {},
     "output_type": "execute_result"
    }
   ],
   "source": [
    "newDF[\"Salary\"] "
   ]
  },
  {
   "cell_type": "code",
   "execution_count": 17,
   "metadata": {},
   "outputs": [],
   "source": [
    "newDF[\"Retirement age\"] = newDF[\"Age\"] + newDF[\"Age\"]"
   ]
  },
  {
   "cell_type": "code",
   "execution_count": 18,
   "metadata": {},
   "outputs": [
    {
     "data": {
      "text/html": [
       "<div>\n",
       "<style scoped>\n",
       "    .dataframe tbody tr th:only-of-type {\n",
       "        vertical-align: middle;\n",
       "    }\n",
       "\n",
       "    .dataframe tbody tr th {\n",
       "        vertical-align: top;\n",
       "    }\n",
       "\n",
       "    .dataframe thead th {\n",
       "        text-align: right;\n",
       "    }\n",
       "</style>\n",
       "<table border=\"1\" class=\"dataframe\">\n",
       "  <thead>\n",
       "    <tr style=\"text-align: right;\">\n",
       "      <th></th>\n",
       "      <th>Worked hours</th>\n",
       "      <th>Age</th>\n",
       "      <th>Salary</th>\n",
       "      <th>Retirement age</th>\n",
       "    </tr>\n",
       "  </thead>\n",
       "  <tbody>\n",
       "    <tr>\n",
       "      <th>Huseyin</th>\n",
       "      <td>0.134688</td>\n",
       "      <td>0.281241</td>\n",
       "      <td>0.547913</td>\n",
       "      <td>0.562482</td>\n",
       "    </tr>\n",
       "    <tr>\n",
       "      <th>Ali</th>\n",
       "      <td>0.449398</td>\n",
       "      <td>0.347758</td>\n",
       "      <td>0.502275</td>\n",
       "      <td>0.695516</td>\n",
       "    </tr>\n",
       "    <tr>\n",
       "      <th>Ismail</th>\n",
       "      <td>0.723141</td>\n",
       "      <td>0.147345</td>\n",
       "      <td>0.798650</td>\n",
       "      <td>0.294690</td>\n",
       "    </tr>\n",
       "    <tr>\n",
       "      <th>Veli</th>\n",
       "      <td>0.374744</td>\n",
       "      <td>0.473508</td>\n",
       "      <td>0.261109</td>\n",
       "      <td>0.947015</td>\n",
       "    </tr>\n",
       "  </tbody>\n",
       "</table>\n",
       "</div>"
      ],
      "text/plain": [
       "         Worked hours       Age    Salary  Retirement age\n",
       "Huseyin      0.134688  0.281241  0.547913        0.562482\n",
       "Ali          0.449398  0.347758  0.502275        0.695516\n",
       "Ismail       0.723141  0.147345  0.798650        0.294690\n",
       "Veli         0.374744  0.473508  0.261109        0.947015"
      ]
     },
     "execution_count": 18,
     "metadata": {},
     "output_type": "execute_result"
    }
   ],
   "source": [
    "newDF"
   ]
  },
  {
   "cell_type": "code",
   "execution_count": 20,
   "metadata": {},
   "outputs": [
    {
     "data": {
      "text/html": [
       "<div>\n",
       "<style scoped>\n",
       "    .dataframe tbody tr th:only-of-type {\n",
       "        vertical-align: middle;\n",
       "    }\n",
       "\n",
       "    .dataframe tbody tr th {\n",
       "        vertical-align: top;\n",
       "    }\n",
       "\n",
       "    .dataframe thead th {\n",
       "        text-align: right;\n",
       "    }\n",
       "</style>\n",
       "<table border=\"1\" class=\"dataframe\">\n",
       "  <thead>\n",
       "    <tr style=\"text-align: right;\">\n",
       "      <th></th>\n",
       "      <th>Worked hours</th>\n",
       "      <th>Age</th>\n",
       "      <th>Salary</th>\n",
       "    </tr>\n",
       "  </thead>\n",
       "  <tbody>\n",
       "    <tr>\n",
       "      <th>Huseyin</th>\n",
       "      <td>0.134688</td>\n",
       "      <td>0.281241</td>\n",
       "      <td>0.547913</td>\n",
       "    </tr>\n",
       "    <tr>\n",
       "      <th>Ali</th>\n",
       "      <td>0.449398</td>\n",
       "      <td>0.347758</td>\n",
       "      <td>0.502275</td>\n",
       "    </tr>\n",
       "    <tr>\n",
       "      <th>Ismail</th>\n",
       "      <td>0.723141</td>\n",
       "      <td>0.147345</td>\n",
       "      <td>0.798650</td>\n",
       "    </tr>\n",
       "    <tr>\n",
       "      <th>Veli</th>\n",
       "      <td>0.374744</td>\n",
       "      <td>0.473508</td>\n",
       "      <td>0.261109</td>\n",
       "    </tr>\n",
       "  </tbody>\n",
       "</table>\n",
       "</div>"
      ],
      "text/plain": [
       "         Worked hours       Age    Salary\n",
       "Huseyin      0.134688  0.281241  0.547913\n",
       "Ali          0.449398  0.347758  0.502275\n",
       "Ismail       0.723141  0.147345  0.798650\n",
       "Veli         0.374744  0.473508  0.261109"
      ]
     },
     "execution_count": 20,
     "metadata": {},
     "output_type": "execute_result"
    }
   ],
   "source": [
    "newDF.drop(\"Retirement age\",axis=1)"
   ]
  },
  {
   "cell_type": "code",
   "execution_count": 21,
   "metadata": {},
   "outputs": [
    {
     "data": {
      "text/html": [
       "<div>\n",
       "<style scoped>\n",
       "    .dataframe tbody tr th:only-of-type {\n",
       "        vertical-align: middle;\n",
       "    }\n",
       "\n",
       "    .dataframe tbody tr th {\n",
       "        vertical-align: top;\n",
       "    }\n",
       "\n",
       "    .dataframe thead th {\n",
       "        text-align: right;\n",
       "    }\n",
       "</style>\n",
       "<table border=\"1\" class=\"dataframe\">\n",
       "  <thead>\n",
       "    <tr style=\"text-align: right;\">\n",
       "      <th></th>\n",
       "      <th>Worked hours</th>\n",
       "      <th>Age</th>\n",
       "      <th>Salary</th>\n",
       "      <th>Retirement age</th>\n",
       "    </tr>\n",
       "  </thead>\n",
       "  <tbody>\n",
       "    <tr>\n",
       "      <th>Huseyin</th>\n",
       "      <td>0.134688</td>\n",
       "      <td>0.281241</td>\n",
       "      <td>0.547913</td>\n",
       "      <td>0.562482</td>\n",
       "    </tr>\n",
       "    <tr>\n",
       "      <th>Ismail</th>\n",
       "      <td>0.723141</td>\n",
       "      <td>0.147345</td>\n",
       "      <td>0.798650</td>\n",
       "      <td>0.294690</td>\n",
       "    </tr>\n",
       "    <tr>\n",
       "      <th>Veli</th>\n",
       "      <td>0.374744</td>\n",
       "      <td>0.473508</td>\n",
       "      <td>0.261109</td>\n",
       "      <td>0.947015</td>\n",
       "    </tr>\n",
       "  </tbody>\n",
       "</table>\n",
       "</div>"
      ],
      "text/plain": [
       "         Worked hours       Age    Salary  Retirement age\n",
       "Huseyin      0.134688  0.281241  0.547913        0.562482\n",
       "Ismail       0.723141  0.147345  0.798650        0.294690\n",
       "Veli         0.374744  0.473508  0.261109        0.947015"
      ]
     },
     "execution_count": 21,
     "metadata": {},
     "output_type": "execute_result"
    }
   ],
   "source": [
    "newDF.drop(\"Ali\",axis=0)"
   ]
  },
  {
   "cell_type": "code",
   "execution_count": 22,
   "metadata": {},
   "outputs": [
    {
     "data": {
      "text/html": [
       "<div>\n",
       "<style scoped>\n",
       "    .dataframe tbody tr th:only-of-type {\n",
       "        vertical-align: middle;\n",
       "    }\n",
       "\n",
       "    .dataframe tbody tr th {\n",
       "        vertical-align: top;\n",
       "    }\n",
       "\n",
       "    .dataframe thead th {\n",
       "        text-align: right;\n",
       "    }\n",
       "</style>\n",
       "<table border=\"1\" class=\"dataframe\">\n",
       "  <thead>\n",
       "    <tr style=\"text-align: right;\">\n",
       "      <th></th>\n",
       "      <th>Worked hours</th>\n",
       "      <th>Age</th>\n",
       "      <th>Salary</th>\n",
       "      <th>Retirement age</th>\n",
       "    </tr>\n",
       "  </thead>\n",
       "  <tbody>\n",
       "    <tr>\n",
       "      <th>Huseyin</th>\n",
       "      <td>0.134688</td>\n",
       "      <td>0.281241</td>\n",
       "      <td>0.547913</td>\n",
       "      <td>0.562482</td>\n",
       "    </tr>\n",
       "    <tr>\n",
       "      <th>Ali</th>\n",
       "      <td>0.449398</td>\n",
       "      <td>0.347758</td>\n",
       "      <td>0.502275</td>\n",
       "      <td>0.695516</td>\n",
       "    </tr>\n",
       "    <tr>\n",
       "      <th>Ismail</th>\n",
       "      <td>0.723141</td>\n",
       "      <td>0.147345</td>\n",
       "      <td>0.798650</td>\n",
       "      <td>0.294690</td>\n",
       "    </tr>\n",
       "    <tr>\n",
       "      <th>Veli</th>\n",
       "      <td>0.374744</td>\n",
       "      <td>0.473508</td>\n",
       "      <td>0.261109</td>\n",
       "      <td>0.947015</td>\n",
       "    </tr>\n",
       "  </tbody>\n",
       "</table>\n",
       "</div>"
      ],
      "text/plain": [
       "         Worked hours       Age    Salary  Retirement age\n",
       "Huseyin      0.134688  0.281241  0.547913        0.562482\n",
       "Ali          0.449398  0.347758  0.502275        0.695516\n",
       "Ismail       0.723141  0.147345  0.798650        0.294690\n",
       "Veli         0.374744  0.473508  0.261109        0.947015"
      ]
     },
     "execution_count": 22,
     "metadata": {},
     "output_type": "execute_result"
    }
   ],
   "source": [
    "newDF"
   ]
  },
  {
   "cell_type": "code",
   "execution_count": 23,
   "metadata": {},
   "outputs": [],
   "source": [
    "newDF.drop(\"Retirement age\",axis=1,inplace=True)"
   ]
  },
  {
   "cell_type": "code",
   "execution_count": 24,
   "metadata": {},
   "outputs": [
    {
     "data": {
      "text/html": [
       "<div>\n",
       "<style scoped>\n",
       "    .dataframe tbody tr th:only-of-type {\n",
       "        vertical-align: middle;\n",
       "    }\n",
       "\n",
       "    .dataframe tbody tr th {\n",
       "        vertical-align: top;\n",
       "    }\n",
       "\n",
       "    .dataframe thead th {\n",
       "        text-align: right;\n",
       "    }\n",
       "</style>\n",
       "<table border=\"1\" class=\"dataframe\">\n",
       "  <thead>\n",
       "    <tr style=\"text-align: right;\">\n",
       "      <th></th>\n",
       "      <th>Worked hours</th>\n",
       "      <th>Age</th>\n",
       "      <th>Salary</th>\n",
       "    </tr>\n",
       "  </thead>\n",
       "  <tbody>\n",
       "    <tr>\n",
       "      <th>Huseyin</th>\n",
       "      <td>0.134688</td>\n",
       "      <td>0.281241</td>\n",
       "      <td>0.547913</td>\n",
       "    </tr>\n",
       "    <tr>\n",
       "      <th>Ali</th>\n",
       "      <td>0.449398</td>\n",
       "      <td>0.347758</td>\n",
       "      <td>0.502275</td>\n",
       "    </tr>\n",
       "    <tr>\n",
       "      <th>Ismail</th>\n",
       "      <td>0.723141</td>\n",
       "      <td>0.147345</td>\n",
       "      <td>0.798650</td>\n",
       "    </tr>\n",
       "    <tr>\n",
       "      <th>Veli</th>\n",
       "      <td>0.374744</td>\n",
       "      <td>0.473508</td>\n",
       "      <td>0.261109</td>\n",
       "    </tr>\n",
       "  </tbody>\n",
       "</table>\n",
       "</div>"
      ],
      "text/plain": [
       "         Worked hours       Age    Salary\n",
       "Huseyin      0.134688  0.281241  0.547913\n",
       "Ali          0.449398  0.347758  0.502275\n",
       "Ismail       0.723141  0.147345  0.798650\n",
       "Veli         0.374744  0.473508  0.261109"
      ]
     },
     "execution_count": 24,
     "metadata": {},
     "output_type": "execute_result"
    }
   ],
   "source": [
    "newDF"
   ]
  },
  {
   "cell_type": "code",
   "execution_count": 25,
   "metadata": {},
   "outputs": [
    {
     "data": {
      "text/plain": [
       "0.5479134186238831"
      ]
     },
     "execution_count": 25,
     "metadata": {},
     "output_type": "execute_result"
    }
   ],
   "source": [
    "newDF.loc[\"Huseyin\"][\"Salary\"]"
   ]
  },
  {
   "cell_type": "code",
   "execution_count": 26,
   "metadata": {},
   "outputs": [
    {
     "data": {
      "text/plain": [
       "0.5479134186238831"
      ]
     },
     "execution_count": 26,
     "metadata": {},
     "output_type": "execute_result"
    }
   ],
   "source": [
    "newDF.loc[\"Huseyin\",\"Salary\"]"
   ]
  },
  {
   "cell_type": "code",
   "execution_count": 28,
   "metadata": {},
   "outputs": [],
   "source": [
    "booleanDF = newDF < 0"
   ]
  },
  {
   "cell_type": "code",
   "execution_count": 29,
   "metadata": {},
   "outputs": [
    {
     "data": {
      "text/html": [
       "<div>\n",
       "<style scoped>\n",
       "    .dataframe tbody tr th:only-of-type {\n",
       "        vertical-align: middle;\n",
       "    }\n",
       "\n",
       "    .dataframe tbody tr th {\n",
       "        vertical-align: top;\n",
       "    }\n",
       "\n",
       "    .dataframe thead th {\n",
       "        text-align: right;\n",
       "    }\n",
       "</style>\n",
       "<table border=\"1\" class=\"dataframe\">\n",
       "  <thead>\n",
       "    <tr style=\"text-align: right;\">\n",
       "      <th></th>\n",
       "      <th>Worked hours</th>\n",
       "      <th>Age</th>\n",
       "      <th>Salary</th>\n",
       "    </tr>\n",
       "  </thead>\n",
       "  <tbody>\n",
       "    <tr>\n",
       "      <th>Huseyin</th>\n",
       "      <td>NaN</td>\n",
       "      <td>NaN</td>\n",
       "      <td>NaN</td>\n",
       "    </tr>\n",
       "    <tr>\n",
       "      <th>Ali</th>\n",
       "      <td>NaN</td>\n",
       "      <td>NaN</td>\n",
       "      <td>NaN</td>\n",
       "    </tr>\n",
       "    <tr>\n",
       "      <th>Ismail</th>\n",
       "      <td>NaN</td>\n",
       "      <td>NaN</td>\n",
       "      <td>NaN</td>\n",
       "    </tr>\n",
       "    <tr>\n",
       "      <th>Veli</th>\n",
       "      <td>NaN</td>\n",
       "      <td>NaN</td>\n",
       "      <td>NaN</td>\n",
       "    </tr>\n",
       "  </tbody>\n",
       "</table>\n",
       "</div>"
      ],
      "text/plain": [
       "         Worked hours  Age  Salary\n",
       "Huseyin           NaN  NaN     NaN\n",
       "Ali               NaN  NaN     NaN\n",
       "Ismail            NaN  NaN     NaN\n",
       "Veli              NaN  NaN     NaN"
      ]
     },
     "execution_count": 29,
     "metadata": {},
     "output_type": "execute_result"
    }
   ],
   "source": [
    "newDF[booleanDF]"
   ]
  },
  {
   "cell_type": "code",
   "execution_count": 30,
   "metadata": {},
   "outputs": [
    {
     "data": {
      "text/html": [
       "<div>\n",
       "<style scoped>\n",
       "    .dataframe tbody tr th:only-of-type {\n",
       "        vertical-align: middle;\n",
       "    }\n",
       "\n",
       "    .dataframe tbody tr th {\n",
       "        vertical-align: top;\n",
       "    }\n",
       "\n",
       "    .dataframe thead th {\n",
       "        text-align: right;\n",
       "    }\n",
       "</style>\n",
       "<table border=\"1\" class=\"dataframe\">\n",
       "  <thead>\n",
       "    <tr style=\"text-align: right;\">\n",
       "      <th></th>\n",
       "      <th>Worked hours</th>\n",
       "      <th>Age</th>\n",
       "      <th>Salary</th>\n",
       "    </tr>\n",
       "  </thead>\n",
       "  <tbody>\n",
       "    <tr>\n",
       "      <th>Huseyin</th>\n",
       "      <td>NaN</td>\n",
       "      <td>NaN</td>\n",
       "      <td>0.547913</td>\n",
       "    </tr>\n",
       "    <tr>\n",
       "      <th>Ali</th>\n",
       "      <td>NaN</td>\n",
       "      <td>NaN</td>\n",
       "      <td>0.502275</td>\n",
       "    </tr>\n",
       "    <tr>\n",
       "      <th>Ismail</th>\n",
       "      <td>0.723141</td>\n",
       "      <td>NaN</td>\n",
       "      <td>0.798650</td>\n",
       "    </tr>\n",
       "    <tr>\n",
       "      <th>Veli</th>\n",
       "      <td>NaN</td>\n",
       "      <td>NaN</td>\n",
       "      <td>NaN</td>\n",
       "    </tr>\n",
       "  </tbody>\n",
       "</table>\n",
       "</div>"
      ],
      "text/plain": [
       "         Worked hours  Age    Salary\n",
       "Huseyin           NaN  NaN  0.547913\n",
       "Ali               NaN  NaN  0.502275\n",
       "Ismail       0.723141  NaN  0.798650\n",
       "Veli              NaN  NaN       NaN"
      ]
     },
     "execution_count": 30,
     "metadata": {},
     "output_type": "execute_result"
    }
   ],
   "source": [
    "newDF[newDF > 0.5]"
   ]
  },
  {
   "cell_type": "code",
   "execution_count": 33,
   "metadata": {},
   "outputs": [
    {
     "data": {
      "text/plain": [
       "Huseyin    False\n",
       "Ali         True\n",
       "Ismail     False\n",
       "Veli        True\n",
       "Name: Age, dtype: bool"
      ]
     },
     "execution_count": 33,
     "metadata": {},
     "output_type": "execute_result"
    }
   ],
   "source": [
    "newDF[\"Age\"] > 0.3"
   ]
  },
  {
   "cell_type": "code",
   "execution_count": 34,
   "metadata": {},
   "outputs": [
    {
     "data": {
      "text/html": [
       "<div>\n",
       "<style scoped>\n",
       "    .dataframe tbody tr th:only-of-type {\n",
       "        vertical-align: middle;\n",
       "    }\n",
       "\n",
       "    .dataframe tbody tr th {\n",
       "        vertical-align: top;\n",
       "    }\n",
       "\n",
       "    .dataframe thead th {\n",
       "        text-align: right;\n",
       "    }\n",
       "</style>\n",
       "<table border=\"1\" class=\"dataframe\">\n",
       "  <thead>\n",
       "    <tr style=\"text-align: right;\">\n",
       "      <th></th>\n",
       "      <th>Worked hours</th>\n",
       "      <th>Age</th>\n",
       "      <th>Salary</th>\n",
       "    </tr>\n",
       "  </thead>\n",
       "  <tbody>\n",
       "    <tr>\n",
       "      <th>Ali</th>\n",
       "      <td>0.449398</td>\n",
       "      <td>0.347758</td>\n",
       "      <td>0.502275</td>\n",
       "    </tr>\n",
       "    <tr>\n",
       "      <th>Veli</th>\n",
       "      <td>0.374744</td>\n",
       "      <td>0.473508</td>\n",
       "      <td>0.261109</td>\n",
       "    </tr>\n",
       "  </tbody>\n",
       "</table>\n",
       "</div>"
      ],
      "text/plain": [
       "      Worked hours       Age    Salary\n",
       "Ali       0.449398  0.347758  0.502275\n",
       "Veli      0.374744  0.473508  0.261109"
      ]
     },
     "execution_count": 34,
     "metadata": {},
     "output_type": "execute_result"
    }
   ],
   "source": [
    "newDF[newDF[\"Age\"]>0.3]"
   ]
  },
  {
   "cell_type": "code",
   "execution_count": 35,
   "metadata": {},
   "outputs": [
    {
     "data": {
      "text/html": [
       "<div>\n",
       "<style scoped>\n",
       "    .dataframe tbody tr th:only-of-type {\n",
       "        vertical-align: middle;\n",
       "    }\n",
       "\n",
       "    .dataframe tbody tr th {\n",
       "        vertical-align: top;\n",
       "    }\n",
       "\n",
       "    .dataframe thead th {\n",
       "        text-align: right;\n",
       "    }\n",
       "</style>\n",
       "<table border=\"1\" class=\"dataframe\">\n",
       "  <thead>\n",
       "    <tr style=\"text-align: right;\">\n",
       "      <th></th>\n",
       "      <th>Worked hours</th>\n",
       "      <th>Age</th>\n",
       "      <th>Salary</th>\n",
       "    </tr>\n",
       "  </thead>\n",
       "  <tbody>\n",
       "    <tr>\n",
       "      <th>Huseyin</th>\n",
       "      <td>0.134688</td>\n",
       "      <td>0.281241</td>\n",
       "      <td>0.547913</td>\n",
       "    </tr>\n",
       "    <tr>\n",
       "      <th>Ali</th>\n",
       "      <td>0.449398</td>\n",
       "      <td>0.347758</td>\n",
       "      <td>0.502275</td>\n",
       "    </tr>\n",
       "    <tr>\n",
       "      <th>Ismail</th>\n",
       "      <td>0.723141</td>\n",
       "      <td>0.147345</td>\n",
       "      <td>0.798650</td>\n",
       "    </tr>\n",
       "    <tr>\n",
       "      <th>Veli</th>\n",
       "      <td>0.374744</td>\n",
       "      <td>0.473508</td>\n",
       "      <td>0.261109</td>\n",
       "    </tr>\n",
       "  </tbody>\n",
       "</table>\n",
       "</div>"
      ],
      "text/plain": [
       "         Worked hours       Age    Salary\n",
       "Huseyin      0.134688  0.281241  0.547913\n",
       "Ali          0.449398  0.347758  0.502275\n",
       "Ismail       0.723141  0.147345  0.798650\n",
       "Veli         0.374744  0.473508  0.261109"
      ]
     },
     "execution_count": 35,
     "metadata": {},
     "output_type": "execute_result"
    }
   ],
   "source": [
    "newDF"
   ]
  },
  {
   "cell_type": "code",
   "execution_count": 36,
   "metadata": {},
   "outputs": [
    {
     "data": {
      "text/html": [
       "<div>\n",
       "<style scoped>\n",
       "    .dataframe tbody tr th:only-of-type {\n",
       "        vertical-align: middle;\n",
       "    }\n",
       "\n",
       "    .dataframe tbody tr th {\n",
       "        vertical-align: top;\n",
       "    }\n",
       "\n",
       "    .dataframe thead th {\n",
       "        text-align: right;\n",
       "    }\n",
       "</style>\n",
       "<table border=\"1\" class=\"dataframe\">\n",
       "  <thead>\n",
       "    <tr style=\"text-align: right;\">\n",
       "      <th></th>\n",
       "      <th>index</th>\n",
       "      <th>Worked hours</th>\n",
       "      <th>Age</th>\n",
       "      <th>Salary</th>\n",
       "    </tr>\n",
       "  </thead>\n",
       "  <tbody>\n",
       "    <tr>\n",
       "      <th>0</th>\n",
       "      <td>Huseyin</td>\n",
       "      <td>0.134688</td>\n",
       "      <td>0.281241</td>\n",
       "      <td>0.547913</td>\n",
       "    </tr>\n",
       "    <tr>\n",
       "      <th>1</th>\n",
       "      <td>Ali</td>\n",
       "      <td>0.449398</td>\n",
       "      <td>0.347758</td>\n",
       "      <td>0.502275</td>\n",
       "    </tr>\n",
       "    <tr>\n",
       "      <th>2</th>\n",
       "      <td>Ismail</td>\n",
       "      <td>0.723141</td>\n",
       "      <td>0.147345</td>\n",
       "      <td>0.798650</td>\n",
       "    </tr>\n",
       "    <tr>\n",
       "      <th>3</th>\n",
       "      <td>Veli</td>\n",
       "      <td>0.374744</td>\n",
       "      <td>0.473508</td>\n",
       "      <td>0.261109</td>\n",
       "    </tr>\n",
       "  </tbody>\n",
       "</table>\n",
       "</div>"
      ],
      "text/plain": [
       "     index  Worked hours       Age    Salary\n",
       "0  Huseyin      0.134688  0.281241  0.547913\n",
       "1      Ali      0.449398  0.347758  0.502275\n",
       "2   Ismail      0.723141  0.147345  0.798650\n",
       "3     Veli      0.374744  0.473508  0.261109"
      ]
     },
     "execution_count": 36,
     "metadata": {},
     "output_type": "execute_result"
    }
   ],
   "source": [
    "newDF.reset_index()"
   ]
  },
  {
   "cell_type": "code",
   "execution_count": 37,
   "metadata": {},
   "outputs": [
    {
     "data": {
      "text/html": [
       "<div>\n",
       "<style scoped>\n",
       "    .dataframe tbody tr th:only-of-type {\n",
       "        vertical-align: middle;\n",
       "    }\n",
       "\n",
       "    .dataframe tbody tr th {\n",
       "        vertical-align: top;\n",
       "    }\n",
       "\n",
       "    .dataframe thead th {\n",
       "        text-align: right;\n",
       "    }\n",
       "</style>\n",
       "<table border=\"1\" class=\"dataframe\">\n",
       "  <thead>\n",
       "    <tr style=\"text-align: right;\">\n",
       "      <th></th>\n",
       "      <th>Worked hours</th>\n",
       "      <th>Age</th>\n",
       "      <th>Salary</th>\n",
       "    </tr>\n",
       "    <tr>\n",
       "      <th>new index</th>\n",
       "      <th></th>\n",
       "      <th></th>\n",
       "      <th></th>\n",
       "    </tr>\n",
       "  </thead>\n",
       "  <tbody>\n",
       "    <tr>\n",
       "      <th>a</th>\n",
       "      <td>0.134688</td>\n",
       "      <td>0.281241</td>\n",
       "      <td>0.547913</td>\n",
       "    </tr>\n",
       "    <tr>\n",
       "      <th>b</th>\n",
       "      <td>0.449398</td>\n",
       "      <td>0.347758</td>\n",
       "      <td>0.502275</td>\n",
       "    </tr>\n",
       "    <tr>\n",
       "      <th>c</th>\n",
       "      <td>0.723141</td>\n",
       "      <td>0.147345</td>\n",
       "      <td>0.798650</td>\n",
       "    </tr>\n",
       "    <tr>\n",
       "      <th>d</th>\n",
       "      <td>0.374744</td>\n",
       "      <td>0.473508</td>\n",
       "      <td>0.261109</td>\n",
       "    </tr>\n",
       "  </tbody>\n",
       "</table>\n",
       "</div>"
      ],
      "text/plain": [
       "           Worked hours       Age    Salary\n",
       "new index                                  \n",
       "a              0.134688  0.281241  0.547913\n",
       "b              0.449398  0.347758  0.502275\n",
       "c              0.723141  0.147345  0.798650\n",
       "d              0.374744  0.473508  0.261109"
      ]
     },
     "execution_count": 37,
     "metadata": {},
     "output_type": "execute_result"
    }
   ],
   "source": [
    "newDF[\"new index\"] = [\"a\",\"b\",\"c\",\"d\"]\n",
    "newDF.set_index(\"new index\")\n",
    "#inplace yapabiliriz"
   ]
  },
  {
   "cell_type": "code",
   "execution_count": 38,
   "metadata": {},
   "outputs": [
    {
     "data": {
      "text/html": [
       "<div>\n",
       "<style scoped>\n",
       "    .dataframe tbody tr th:only-of-type {\n",
       "        vertical-align: middle;\n",
       "    }\n",
       "\n",
       "    .dataframe tbody tr th {\n",
       "        vertical-align: top;\n",
       "    }\n",
       "\n",
       "    .dataframe thead th {\n",
       "        text-align: right;\n",
       "    }\n",
       "</style>\n",
       "<table border=\"1\" class=\"dataframe\">\n",
       "  <thead>\n",
       "    <tr style=\"text-align: right;\">\n",
       "      <th></th>\n",
       "      <th>Worked hours</th>\n",
       "      <th>Age</th>\n",
       "      <th>Salary</th>\n",
       "      <th>new index</th>\n",
       "    </tr>\n",
       "  </thead>\n",
       "  <tbody>\n",
       "    <tr>\n",
       "      <th>Huseyin</th>\n",
       "      <td>0.134688</td>\n",
       "      <td>0.281241</td>\n",
       "      <td>0.547913</td>\n",
       "      <td>a</td>\n",
       "    </tr>\n",
       "    <tr>\n",
       "      <th>Ali</th>\n",
       "      <td>0.449398</td>\n",
       "      <td>0.347758</td>\n",
       "      <td>0.502275</td>\n",
       "      <td>b</td>\n",
       "    </tr>\n",
       "    <tr>\n",
       "      <th>Ismail</th>\n",
       "      <td>0.723141</td>\n",
       "      <td>0.147345</td>\n",
       "      <td>0.798650</td>\n",
       "      <td>c</td>\n",
       "    </tr>\n",
       "    <tr>\n",
       "      <th>Veli</th>\n",
       "      <td>0.374744</td>\n",
       "      <td>0.473508</td>\n",
       "      <td>0.261109</td>\n",
       "      <td>d</td>\n",
       "    </tr>\n",
       "  </tbody>\n",
       "</table>\n",
       "</div>"
      ],
      "text/plain": [
       "         Worked hours       Age    Salary new index\n",
       "Huseyin      0.134688  0.281241  0.547913         a\n",
       "Ali          0.449398  0.347758  0.502275         b\n",
       "Ismail       0.723141  0.147345  0.798650         c\n",
       "Veli         0.374744  0.473508  0.261109         d"
      ]
     },
     "execution_count": 38,
     "metadata": {},
     "output_type": "execute_result"
    }
   ],
   "source": [
    "newDF"
   ]
  },
  {
   "attachments": {},
   "cell_type": "markdown",
   "metadata": {},
   "source": [
    "## Multi index"
   ]
  },
  {
   "cell_type": "code",
   "execution_count": 39,
   "metadata": {},
   "outputs": [
    {
     "data": {
      "text/plain": [
       "[('Simpson', 'Homer'),\n",
       " ('Simpson', 'Bart'),\n",
       " ('Simpson', 'Marge'),\n",
       " ('South Park', 'Cartman'),\n",
       " ('South Park', 'Kenny'),\n",
       " ('South Park', 'Kyle')]"
      ]
     },
     "execution_count": 39,
     "metadata": {},
     "output_type": "execute_result"
    }
   ],
   "source": [
    "firstIndex = [\"Simpson\",\"Simpson\",\"Simpson\",\"South Park\",\"South Park\",\"South Park\"]\n",
    "secondIndex = [\"Homer\",\"Bart\",\"Marge\",\"Cartman\",\"Kenny\",\"Kyle\"]\n",
    "joindedIndex = list(zip(firstIndex,secondIndex))\n",
    "joindedIndex"
   ]
  },
  {
   "cell_type": "code",
   "execution_count": 40,
   "metadata": {},
   "outputs": [
    {
     "data": {
      "text/plain": [
       "MultiIndex([(   'Simpson',   'Homer'),\n",
       "            (   'Simpson',    'Bart'),\n",
       "            (   'Simpson',   'Marge'),\n",
       "            ('South Park', 'Cartman'),\n",
       "            ('South Park',   'Kenny'),\n",
       "            ('South Park',    'Kyle')],\n",
       "           )"
      ]
     },
     "execution_count": 40,
     "metadata": {},
     "output_type": "execute_result"
    }
   ],
   "source": [
    "joindedIndex = pd.MultiIndex.from_tuples(joindedIndex)\n",
    "joindedIndex"
   ]
  },
  {
   "cell_type": "code",
   "execution_count": 46,
   "metadata": {},
   "outputs": [],
   "source": [
    "randomArray = np.random.rand(6,2)\n"
   ]
  },
  {
   "cell_type": "code",
   "execution_count": 47,
   "metadata": {},
   "outputs": [],
   "source": [
    "cartoonDF = pd.DataFrame(data=randomArray,index=joindedIndex,columns=[\"School\",\"Home\"])"
   ]
  },
  {
   "cell_type": "code",
   "execution_count": 53,
   "metadata": {},
   "outputs": [
    {
     "data": {
      "text/plain": [
       "School    0.574143\n",
       "Home      0.389335\n",
       "Name: Kenny, dtype: float64"
      ]
     },
     "execution_count": 53,
     "metadata": {},
     "output_type": "execute_result"
    }
   ],
   "source": [
    "cartoonDF.loc[\"South Park\"].loc[\"Kenny\"]"
   ]
  },
  {
   "cell_type": "code",
   "execution_count": 56,
   "metadata": {},
   "outputs": [],
   "source": [
    "cartoonDF.index.names = [\"Cartoon name\",\"name\"]"
   ]
  },
  {
   "cell_type": "code",
   "execution_count": 57,
   "metadata": {},
   "outputs": [
    {
     "data": {
      "text/html": [
       "<div>\n",
       "<style scoped>\n",
       "    .dataframe tbody tr th:only-of-type {\n",
       "        vertical-align: middle;\n",
       "    }\n",
       "\n",
       "    .dataframe tbody tr th {\n",
       "        vertical-align: top;\n",
       "    }\n",
       "\n",
       "    .dataframe thead th {\n",
       "        text-align: right;\n",
       "    }\n",
       "</style>\n",
       "<table border=\"1\" class=\"dataframe\">\n",
       "  <thead>\n",
       "    <tr style=\"text-align: right;\">\n",
       "      <th></th>\n",
       "      <th></th>\n",
       "      <th>School</th>\n",
       "      <th>Home</th>\n",
       "    </tr>\n",
       "    <tr>\n",
       "      <th>Cartoon name</th>\n",
       "      <th>name</th>\n",
       "      <th></th>\n",
       "      <th></th>\n",
       "    </tr>\n",
       "  </thead>\n",
       "  <tbody>\n",
       "    <tr>\n",
       "      <th rowspan=\"3\" valign=\"top\">Simpson</th>\n",
       "      <th>Homer</th>\n",
       "      <td>0.875827</td>\n",
       "      <td>0.896967</td>\n",
       "    </tr>\n",
       "    <tr>\n",
       "      <th>Bart</th>\n",
       "      <td>0.854603</td>\n",
       "      <td>0.871368</td>\n",
       "    </tr>\n",
       "    <tr>\n",
       "      <th>Marge</th>\n",
       "      <td>0.312077</td>\n",
       "      <td>0.240127</td>\n",
       "    </tr>\n",
       "    <tr>\n",
       "      <th rowspan=\"3\" valign=\"top\">South Park</th>\n",
       "      <th>Cartman</th>\n",
       "      <td>0.702916</td>\n",
       "      <td>0.700509</td>\n",
       "    </tr>\n",
       "    <tr>\n",
       "      <th>Kenny</th>\n",
       "      <td>0.574143</td>\n",
       "      <td>0.389335</td>\n",
       "    </tr>\n",
       "    <tr>\n",
       "      <th>Kyle</th>\n",
       "      <td>0.712506</td>\n",
       "      <td>0.012026</td>\n",
       "    </tr>\n",
       "  </tbody>\n",
       "</table>\n",
       "</div>"
      ],
      "text/plain": [
       "                        School      Home\n",
       "Cartoon name name                       \n",
       "Simpson      Homer    0.875827  0.896967\n",
       "             Bart     0.854603  0.871368\n",
       "             Marge    0.312077  0.240127\n",
       "South Park   Cartman  0.702916  0.700509\n",
       "             Kenny    0.574143  0.389335\n",
       "             Kyle     0.712506  0.012026"
      ]
     },
     "execution_count": 57,
     "metadata": {},
     "output_type": "execute_result"
    }
   ],
   "source": [
    "cartoonDF"
   ]
  },
  {
   "cell_type": "code",
   "execution_count": null,
   "metadata": {},
   "outputs": [],
   "source": []
  }
 ],
 "metadata": {
  "kernelspec": {
   "display_name": "ml-venv",
   "language": "python",
   "name": "python3"
  },
  "language_info": {
   "codemirror_mode": {
    "name": "ipython",
    "version": 3
   },
   "file_extension": ".py",
   "mimetype": "text/x-python",
   "name": "python",
   "nbconvert_exporter": "python",
   "pygments_lexer": "ipython3",
   "version": "3.10.7"
  },
  "orig_nbformat": 4,
  "vscode": {
   "interpreter": {
    "hash": "4a11a43489584d5be2cdd511966207cfe657280a73e9d0cb7d121c4c220a5e20"
   }
  }
 },
 "nbformat": 4,
 "nbformat_minor": 2
}
